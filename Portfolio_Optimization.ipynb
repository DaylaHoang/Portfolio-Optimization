{
  "nbformat": 4,
  "nbformat_minor": 0,
  "metadata": {
    "colab": {
      "provenance": [],
      "authorship_tag": "ABX9TyN1kbzLahHZSmSZKzpWy2sk",
      "include_colab_link": true
    },
    "kernelspec": {
      "name": "python3",
      "display_name": "Python 3"
    },
    "language_info": {
      "name": "python"
    }
  },
  "cells": [
    {
      "cell_type": "markdown",
      "metadata": {
        "id": "view-in-github",
        "colab_type": "text"
      },
      "source": [
        "<a href=\"https://colab.research.google.com/github/DaylaHoang/Portfolio-Optimization/blob/main/Portfolio_Optimization.ipynb\" target=\"_parent\"><img src=\"https://colab.research.google.com/assets/colab-badge.svg\" alt=\"Open In Colab\"/></a>"
      ]
    },
    {
      "cell_type": "code",
      "execution_count": 73,
      "metadata": {
        "id": "gJDTr_eoEu-8"
      },
      "outputs": [],
      "source": [
        "#Import essensial libraries\n",
        "import yfinance as yf\n",
        "import pandas as pd\n",
        "from datetime import datetime, timedelta\n",
        "import numpy as np\n",
        "from scipy.optimize import minimize"
      ]
    },
    {
      "cell_type": "code",
      "source": [
        "#Define the list of tickers\n",
        "tickers = ['AAPL', 'MSFT', 'GOOGL', 'AMZN', 'TSLA']"
      ],
      "metadata": {
        "id": "_j3CyqAxFf3t"
      },
      "execution_count": 74,
      "outputs": []
    },
    {
      "cell_type": "code",
      "source": [
        "#Set the end date to today\n",
        "end_date = datetime.today()"
      ],
      "metadata": {
        "id": "9rN4713JI9Et"
      },
      "execution_count": 75,
      "outputs": []
    },
    {
      "cell_type": "code",
      "source": [
        "#Set the date to 10 years ago\n",
        "start_date = end_date - timedelta(days=365*10)\n",
        "print(start_date)"
      ],
      "metadata": {
        "colab": {
          "base_uri": "https://localhost:8080/"
        },
        "id": "CrLBylbEJB3N",
        "outputId": "f29f8240-08cd-4eeb-df8c-e4822c845e6d"
      },
      "execution_count": 76,
      "outputs": [
        {
          "output_type": "stream",
          "name": "stdout",
          "text": [
            "2015-01-01 03:43:03.417453\n"
          ]
        }
      ]
    },
    {
      "cell_type": "code",
      "source": [
        "#Download Adjusted Close Prices\n",
        "adj_close_df = pd.DataFrame()\n",
        "\n",
        "for ticker in tickers:\n",
        "    data = yf.download(ticker, start=start_date, end=end_date)\n",
        "    adj_close_df[ticker] = data['Adj Close']"
      ],
      "metadata": {
        "colab": {
          "base_uri": "https://localhost:8080/"
        },
        "id": "4SlP090uJS88",
        "outputId": "11b123d6-280d-4e75-aa28-6c654bd0526b"
      },
      "execution_count": 77,
      "outputs": [
        {
          "output_type": "stream",
          "name": "stderr",
          "text": [
            "[*********************100%***********************]  1 of 1 completed\n",
            "[*********************100%***********************]  1 of 1 completed\n",
            "[*********************100%***********************]  1 of 1 completed\n",
            "[*********************100%***********************]  1 of 1 completed\n",
            "[*********************100%***********************]  1 of 1 completed\n"
          ]
        }
      ]
    },
    {
      "cell_type": "code",
      "source": [
        "print(adj_close_df)"
      ],
      "metadata": {
        "colab": {
          "base_uri": "https://localhost:8080/"
        },
        "id": "uXHRMruaLywF",
        "outputId": "950823e0-2418-4957-eb20-e8ecf51919a6"
      },
      "execution_count": 78,
      "outputs": [
        {
          "output_type": "stream",
          "name": "stdout",
          "text": [
            "                  AAPL        MSFT       GOOGL        AMZN        TSLA\n",
            "Date                                                                  \n",
            "2015-01-02   24.347176   40.232845   26.381865   15.426000   14.620667\n",
            "2015-01-05   23.661274   39.862881   25.879185   15.109500   14.006000\n",
            "2015-01-06   23.663504   39.277805   25.240503   14.764500   14.085333\n",
            "2015-01-07   23.995321   39.776844   25.166271   14.921000   14.063333\n",
            "2015-01-08   24.917265   40.946995   25.253954   15.023000   14.041333\n",
            "...                ...         ...         ...         ...         ...\n",
            "2024-12-20  254.490005  436.600006  191.410004  224.919998  421.059998\n",
            "2024-12-23  255.270004  435.250000  194.630005  225.059998  430.600006\n",
            "2024-12-24  258.200012  439.329987  196.110001  229.050003  462.279999\n",
            "2024-12-26  259.019989  438.109985  195.600006  227.050003  454.130005\n",
            "2024-12-27  255.589996  430.529999  192.759995  223.750000  431.660004\n",
            "\n",
            "[2514 rows x 5 columns]\n"
          ]
        }
      ]
    },
    {
      "cell_type": "code",
      "source": [
        "#Calculate Lognormal Returns for each ticker\n",
        "log_returns = np.log(adj_close_df / adj_close_df.shift(1))\n",
        "log_returns = log_returns.dropna()"
      ],
      "metadata": {
        "id": "YHWXjCzNMNoq"
      },
      "execution_count": 79,
      "outputs": []
    },
    {
      "cell_type": "code",
      "source": [
        "#Calculate Covariance Matrix using annualized log returns\n",
        "cov_matrix = log_returns.cov()*252\n",
        "print(cov_matrix)"
      ],
      "metadata": {
        "colab": {
          "base_uri": "https://localhost:8080/"
        },
        "id": "cxNqr4VwRcU4",
        "outputId": "f4b567c1-28ec-4b8a-82c1-fbccf18ee5cc"
      },
      "execution_count": 80,
      "outputs": [
        {
          "output_type": "stream",
          "name": "stdout",
          "text": [
            "           AAPL      MSFT     GOOGL      AMZN      TSLA\n",
            "AAPL   0.081065  0.052927  0.049051  0.051777  0.068880\n",
            "MSFT   0.052927  0.073640  0.055242  0.058468  0.062883\n",
            "GOOGL  0.049051  0.055242  0.080814  0.060215  0.059957\n",
            "AMZN   0.051777  0.058468  0.060215  0.106725  0.073067\n",
            "TSLA   0.068880  0.062883  0.059957  0.073067  0.324978\n"
          ]
        }
      ]
    },
    {
      "cell_type": "code",
      "source": [
        "#Calculate the Portfolio Standard Deviation\n",
        "def standard_deviation(weights,cov_matrix):\n",
        "    variance = weights.T @ cov_matrix @ weights\n",
        "    return np.sqrt(variance)"
      ],
      "metadata": {
        "id": "Cw7V-C9ERg1w"
      },
      "execution_count": 81,
      "outputs": []
    },
    {
      "cell_type": "code",
      "source": [
        "#Calculate the Expected Return\n",
        "def expected_return(weights,log_returns):\n",
        "    return np.sum(log_returns.mean()*weights)*252"
      ],
      "metadata": {
        "id": "SEL7FiWXUwhq"
      },
      "execution_count": 82,
      "outputs": []
    },
    {
      "cell_type": "code",
      "source": [
        "#Calculate the Sharpe Ratio\n",
        "def sharpe_ratio (weights,log_returns,risk_free_rate):\n",
        "    return (expected_return(weights, log_returns) - risk_free_rate) / standard_deviation(weights, cov_matrix)"
      ],
      "metadata": {
        "id": "9ShwC_85Vthy"
      },
      "execution_count": 83,
      "outputs": []
    },
    {
      "cell_type": "code",
      "source": [
        "#Set the risk-free rate\n",
        "!pip install fredapi\n",
        "from fredapi import Fred\n",
        "fred = Fred(api_key='fa33ca8b9d11ef777744a89d4b9576b9')\n",
        "ten_year_treasury_rate = fred.get_series('DGS10') / 100\n",
        "#Set the risk_free rate\n",
        "risk_free_rate = ten_year_treasury_rate.iloc[-1]\n",
        "print(risk_free_rate)"
      ],
      "metadata": {
        "colab": {
          "base_uri": "https://localhost:8080/"
        },
        "id": "gMAbpdotWb3y",
        "outputId": "3f2a7412-072b-4178-b414-77e9df1546ea"
      },
      "execution_count": 84,
      "outputs": [
        {
          "output_type": "stream",
          "name": "stdout",
          "text": [
            "Requirement already satisfied: fredapi in /usr/local/lib/python3.10/dist-packages (0.5.2)\n",
            "Requirement already satisfied: pandas in /usr/local/lib/python3.10/dist-packages (from fredapi) (2.2.2)\n",
            "Requirement already satisfied: numpy>=1.22.4 in /usr/local/lib/python3.10/dist-packages (from pandas->fredapi) (1.26.4)\n",
            "Requirement already satisfied: python-dateutil>=2.8.2 in /usr/local/lib/python3.10/dist-packages (from pandas->fredapi) (2.8.2)\n",
            "Requirement already satisfied: pytz>=2020.1 in /usr/local/lib/python3.10/dist-packages (from pandas->fredapi) (2024.2)\n",
            "Requirement already satisfied: tzdata>=2022.7 in /usr/local/lib/python3.10/dist-packages (from pandas->fredapi) (2024.2)\n",
            "Requirement already satisfied: six>=1.5 in /usr/local/lib/python3.10/dist-packages (from python-dateutil>=2.8.2->pandas->fredapi) (1.17.0)\n",
            "0.0458\n"
          ]
        }
      ]
    },
    {
      "cell_type": "code",
      "source": [
        "#Define the function to minimize (negative Sharpe Ratio)\n",
        "def neg_sharpe_ratio(weights, log_returns, cov_matrix, risk_free_rate):\n",
        "    return -sharpe_ratio(weights, log_returns, risk_free_rate)"
      ],
      "metadata": {
        "id": "T2Lj8JWMYC2_"
      },
      "execution_count": 85,
      "outputs": []
    },
    {
      "cell_type": "code",
      "source": [
        "#Set the constraints and bounds\n",
        "constraints = {'type': 'eq', 'fun': lambda weights: np.sum(weights) - 1}\n",
        "bounds = [(0, 0.5) for _ in range(len(tickers))]"
      ],
      "metadata": {
        "id": "Yh8PQJHMZFB2"
      },
      "execution_count": 86,
      "outputs": []
    },
    {
      "cell_type": "code",
      "source": [
        "#Set the initial weights\n",
        "initial_weights = np.array([1/len(tickers)]*len(tickers))\n",
        "print(initial_weights)"
      ],
      "metadata": {
        "colab": {
          "base_uri": "https://localhost:8080/"
        },
        "id": "OugUN6JiZxzz",
        "outputId": "6f7cde8d-61cf-4c3e-de86-0283c0655a29"
      },
      "execution_count": 87,
      "outputs": [
        {
          "output_type": "stream",
          "name": "stdout",
          "text": [
            "[0.2 0.2 0.2 0.2 0.2]\n"
          ]
        }
      ]
    },
    {
      "cell_type": "code",
      "source": [
        "# Optimize the weights to maximize Sharpe Ratio\n",
        "#'SLSQP' stands for Sequential Least Squares Quandratic Programming, which is a numerical optimization technique suitable for solving nonlinear optimization problems with constraints\n",
        "optimized_results = minimize(neg_sharpe_ratio, initial_weights, args=(log_returns, cov_matrix, risk_free_rate), method='SLSQP', bounds=bounds, constraints=constraints)"
      ],
      "metadata": {
        "id": "luFgbVuhaR5H"
      },
      "execution_count": 88,
      "outputs": []
    },
    {
      "cell_type": "code",
      "source": [
        "#Get the optimal weights\n",
        "optimal_weights = optimized_results.x"
      ],
      "metadata": {
        "id": "MYuTHBanbYO6"
      },
      "execution_count": 89,
      "outputs": []
    },
    {
      "cell_type": "code",
      "source": [
        "#Display analytics of the optimal portfolio\n",
        "print(\"Optimal Weights:\")\n",
        "for ticker, weight in zip(tickers, optimal_weights):\n",
        "    print(f\"{ticker}: {weight:.4f}\")\n",
        "\n",
        "print()\n",
        "\n",
        "optimal_portfolio_return = expected_return(optimal_weights, log_returns)\n",
        "optimal_portfolio_volatility = standard_deviation(optimal_weights, cov_matrix)\n",
        "optimal_sharpe_ratio = sharpe_ratio(optimal_weights, log_returns, risk_free_rate)\n",
        "\n",
        "print(f\"Expected Annual Return: {optimal_portfolio_return:.4f}\")\n",
        "print(f\"Annual Volatility: {optimal_portfolio_volatility:.4f}\")\n",
        "print(f\"Sharpe Ratio: {optimal_sharpe_ratio:.4f}\")"
      ],
      "metadata": {
        "colab": {
          "base_uri": "https://localhost:8080/"
        },
        "id": "wqp7bfU6c6TX",
        "outputId": "6a7fd3f8-708d-43f5-cc72-116d3ca3e564"
      },
      "execution_count": 90,
      "outputs": [
        {
          "output_type": "stream",
          "name": "stdout",
          "text": [
            "Optimal Weights:\n",
            "AAPL: 0.2689\n",
            "MSFT: 0.3310\n",
            "GOOGL: 0.0000\n",
            "AMZN: 0.2927\n",
            "TSLA: 0.1075\n",
            "\n",
            "Expected Annual Return: 0.2570\n",
            "Annual Volatility: 0.2622\n",
            "Sharpe Ratio: 0.8055\n"
          ]
        }
      ]
    },
    {
      "cell_type": "code",
      "source": [
        "#Display the final portfolio in a plot\n",
        "import matplotlib.pyplot as plt\n",
        "plt.figure(figsize=(10, 6))\n",
        "plt.bar(tickers, optimal_weights)\n",
        "plt.xlabel('Tickers')\n",
        "plt.ylabel('Optimal Weights')\n",
        "plt.title('Optimal Portfolio Weights')\n",
        "plt.show()"
      ],
      "metadata": {
        "colab": {
          "base_uri": "https://localhost:8080/",
          "height": 564
        },
        "id": "MOIqTI3Ldkco",
        "outputId": "3ce3041b-badf-4699-d76b-0b9f6c357b67"
      },
      "execution_count": 91,
      "outputs": [
        {
          "output_type": "display_data",
          "data": {
            "text/plain": [
              "<Figure size 1000x600 with 1 Axes>"
            ],
            "image/png": "[encoded data removed]"
          },
          "metadata": {}
        }
      ]
    },
    {
      "cell_type": "code",
      "source": [],
      "metadata": {
        "id": "9kL2rNiFgLd7"
      },
      "execution_count": 91,
      "outputs": []
    }
  ]
}